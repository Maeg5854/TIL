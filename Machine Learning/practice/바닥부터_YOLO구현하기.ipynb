{
  "nbformat": 4,
  "nbformat_minor": 0,
  "metadata": {
    "colab": {
      "name": "바닥부터 YOLO구현하기.ipynb",
      "provenance": [],
      "authorship_tag": "ABX9TyNKrnxHQp68+kLESlpqd3Ez",
      "include_colab_link": true
    },
    "kernelspec": {
      "name": "python3",
      "display_name": "Python 3"
    },
    "language_info": {
      "name": "python"
    }
  },
  "cells": [
    {
      "cell_type": "markdown",
      "metadata": {
        "id": "view-in-github",
        "colab_type": "text"
      },
      "source": [
        "<a href=\"https://colab.research.google.com/github/Maeg5854/TIL/blob/main/Machine%20Learning/practice/%EB%B0%94%EB%8B%A5%EB%B6%80%ED%84%B0_YOLO%EA%B5%AC%ED%98%84%ED%95%98%EA%B8%B0.ipynb\" target=\"_parent\"><img src=\"https://colab.research.google.com/assets/colab-badge.svg\" alt=\"Open In Colab\"/></a>"
      ]
    },
    {
      "cell_type": "code",
      "execution_count": null,
      "metadata": {
        "id": "MqD2jyAoQ63m"
      },
      "outputs": [],
      "source": [
        ""
      ]
    }
  ]
}